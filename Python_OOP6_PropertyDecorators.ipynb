{
 "cells": [
  {
   "cell_type": "markdown",
   "id": "9ab17f75",
   "metadata": {
    "deletable": false,
    "editable": false,
    "nbgrader": {
     "cell_type": "markdown",
     "checksum": "174acc244938a4b02a02e074fe53a1b0",
     "grade": false,
     "grade_id": "cell-85b69418c12ee370",
     "locked": true,
     "schema_version": 3,
     "solution": false,
     "task": false
    }
   },
   "source": [
    "# Python OOP6 - Property Decorators - Getters, Setters, Deleters"
   ]
  },
  {
   "cell_type": "markdown",
   "id": "49ef1aa0",
   "metadata": {
    "deletable": false,
    "editable": false,
    "nbgrader": {
     "cell_type": "markdown",
     "checksum": "6a22231bee1023c21aa9974c80342513",
     "grade": false,
     "grade_id": "cell-d2608083635b02d5",
     "locked": true,
     "schema_version": 3,
     "solution": false,
     "task": false
    }
   },
   "source": [
    "### Instructions\n",
    "\n",
    "* Watch the video tutorial about the os module at https://www.youtube.com/watch?v=jCzT9XFZ5bw \n",
    "* Complete the programming exercises below as you go through the tutorial.\n",
    "* Delete or comment out the line of code in each cell which says `raise NotImplementedError()` and replace it with your own.\n",
    "\n",
    "### Exercises"
   ]
  },
  {
   "cell_type": "markdown",
   "id": "d536e6b2",
   "metadata": {
    "deletable": false,
    "editable": false,
    "nbgrader": {
     "cell_type": "markdown",
     "checksum": "71f5126b12f88797ebcceb7984be2b6f",
     "grade": false,
     "grade_id": "cell-0cf8054cd3ac7dcf",
     "locked": true,
     "schema_version": 3,
     "solution": false,
     "task": false
    }
   },
   "source": [
    "Write code in the cell below.\n",
    "\n",
    "* Create the `email()` method for the `Employee` class below.\n",
    "* Remove the `self.email` attribute.\n",
    "* Add the `@property` decorator to the `email()` method.\n",
    "* Add the `@property` decorator to the `fullname()` method.\n",
    "* Add the `@fullname.setter` decorator and corresponding method.\n",
    "* Set the `emp_1` full name to `Corey Schafer`."
   ]
  },
  {
   "cell_type": "code",
   "execution_count": 20,
   "id": "386ec815",
   "metadata": {
    "deletable": false,
    "nbgrader": {
     "cell_type": "code",
     "checksum": "c7d63699276774e91fe51e0f83fd3f90",
     "grade": true,
     "grade_id": "cell-e39e17646257dc66",
     "locked": false,
     "points": 4,
     "schema_version": 3,
     "solution": true,
     "task": false
    }
   },
   "outputs": [
    {
     "ename": "TypeError",
     "evalue": "Employee.__init__() missing 1 required positional argument: 'pay'",
     "output_type": "error",
     "traceback": [
      "\u001b[1;31m---------------------------------------------------------------------------\u001b[0m",
      "\u001b[1;31mTypeError\u001b[0m                                 Traceback (most recent call last)",
      "\u001b[1;32mc:\\Users\\u6022329\\Documents\\Python Scripts\\exerPythObjectOriented\\Python_OOP6_PropertyDecorators.ipynb Cell 4\u001b[0m in \u001b[0;36m<cell line: 23>\u001b[1;34m()\u001b[0m\n\u001b[0;32m     <a href='vscode-notebook-cell:/c%3A/Users/u6022329/Documents/Python%20Scripts/exerPythObjectOriented/Python_OOP6_PropertyDecorators.ipynb#W3sZmlsZQ%3D%3D?line=18'>19</a>\u001b[0m         \u001b[39mself\u001b[39m\u001b[39m.\u001b[39mfirst \u001b[39m=\u001b[39m first\n\u001b[0;32m     <a href='vscode-notebook-cell:/c%3A/Users/u6022329/Documents/Python%20Scripts/exerPythObjectOriented/Python_OOP6_PropertyDecorators.ipynb#W3sZmlsZQ%3D%3D?line=19'>20</a>\u001b[0m         \u001b[39mself\u001b[39m\u001b[39m.\u001b[39mlast \u001b[39m=\u001b[39m last\n\u001b[1;32m---> <a href='vscode-notebook-cell:/c%3A/Users/u6022329/Documents/Python%20Scripts/exerPythObjectOriented/Python_OOP6_PropertyDecorators.ipynb#W3sZmlsZQ%3D%3D?line=22'>23</a>\u001b[0m emp_1 \u001b[39m=\u001b[39m Employee(\u001b[39m'\u001b[39;49m\u001b[39mJohn\u001b[39;49m\u001b[39m'\u001b[39;49m, \u001b[39m'\u001b[39;49m\u001b[39mSmith\u001b[39;49m\u001b[39m'\u001b[39;49m)\n\u001b[0;32m     <a href='vscode-notebook-cell:/c%3A/Users/u6022329/Documents/Python%20Scripts/exerPythObjectOriented/Python_OOP6_PropertyDecorators.ipynb#W3sZmlsZQ%3D%3D?line=24'>25</a>\u001b[0m emp_1\u001b[39m.\u001b[39mfullname \u001b[39m=\u001b[39m \u001b[39m'\u001b[39m\u001b[39mCorey Schafer\u001b[39m\u001b[39m'\u001b[39m\n\u001b[0;32m     <a href='vscode-notebook-cell:/c%3A/Users/u6022329/Documents/Python%20Scripts/exerPythObjectOriented/Python_OOP6_PropertyDecorators.ipynb#W3sZmlsZQ%3D%3D?line=26'>27</a>\u001b[0m \u001b[39mprint\u001b[39m(emp_1\u001b[39m.\u001b[39mfirst)\n",
      "\u001b[1;31mTypeError\u001b[0m: Employee.__init__() missing 1 required positional argument: 'pay'"
     ]
    }
   ],
   "source": [
    "class Employee:\n",
    "\n",
    "    def __init__(self, first, last, pay):\n",
    "        self.first = first\n",
    "        self.last = last\n",
    "        self.email = first + '.' + last + '@email.com'\n",
    "\n",
    "    @property\n",
    "    def email(self):\n",
    "        return '{}.{}@email.com'.format(self.first, self.last)\n",
    "\n",
    "    @property\n",
    "    def fullname(self):\n",
    "        return '{} {}'.format(self.first, self.last)\n",
    "\n",
    "    @fullname.setter\n",
    "    def fullname(self, name):\n",
    "        first, last = name.split(' ')\n",
    "        self.first = first\n",
    "        self.last = last\n",
    "\n",
    "\n",
    "emp_1 = Employee('John', 'Smith')\n",
    "\n",
    "emp_1.fullname = 'Corey Schafer'\n",
    "\n",
    "print(emp_1.first)\n",
    "print(emp_1.email)\n",
    "print(emp_1.fullname())\n",
    "\n"
   ]
  },
  {
   "cell_type": "markdown",
   "id": "af16ad52",
   "metadata": {
    "deletable": false,
    "editable": false,
    "nbgrader": {
     "cell_type": "markdown",
     "checksum": "cb64eb632de517bde5023f0f9bed028f",
     "grade": false,
     "grade_id": "cell-44951d613d38d427",
     "locked": true,
     "schema_version": 3,
     "solution": false,
     "task": false
    }
   },
   "source": [
    "Write code in the cell below.\n",
    "\n",
    "* Add the `@fullname.deleter` decorator and corresponding method.\n",
    "* Delete `emp_1.fullname`."
   ]
  },
  {
   "cell_type": "code",
   "execution_count": 21,
   "id": "cc4234f2",
   "metadata": {
    "deletable": false,
    "nbgrader": {
     "cell_type": "code",
     "checksum": "2b3d91e020a99a3e0afe2755ce9dbfba",
     "grade": true,
     "grade_id": "cell-566e3818aad1e3e6",
     "locked": false,
     "points": 1,
     "schema_version": 3,
     "solution": true,
     "task": false
    }
   },
   "outputs": [
    {
     "ename": "TypeError",
     "evalue": "Employee.__init__() missing 1 required positional argument: 'pay'",
     "output_type": "error",
     "traceback": [
      "\u001b[1;31m---------------------------------------------------------------------------\u001b[0m",
      "\u001b[1;31mTypeError\u001b[0m                                 Traceback (most recent call last)",
      "\u001b[1;32mc:\\Users\\u6022329\\Documents\\Python Scripts\\exerPythObjectOriented\\Python_OOP6_PropertyDecorators.ipynb Cell 6\u001b[0m in \u001b[0;36m<cell line: 29>\u001b[1;34m()\u001b[0m\n\u001b[0;32m     <a href='vscode-notebook-cell:/c%3A/Users/u6022329/Documents/Python%20Scripts/exerPythObjectOriented/Python_OOP6_PropertyDecorators.ipynb#W5sZmlsZQ%3D%3D?line=24'>25</a>\u001b[0m         \u001b[39mself\u001b[39m\u001b[39m.\u001b[39mfirst \u001b[39m=\u001b[39m \u001b[39mNone\u001b[39;00m\n\u001b[0;32m     <a href='vscode-notebook-cell:/c%3A/Users/u6022329/Documents/Python%20Scripts/exerPythObjectOriented/Python_OOP6_PropertyDecorators.ipynb#W5sZmlsZQ%3D%3D?line=25'>26</a>\u001b[0m         \u001b[39mself\u001b[39m\u001b[39m.\u001b[39mlast \u001b[39m=\u001b[39m \u001b[39mNone\u001b[39;00m\n\u001b[1;32m---> <a href='vscode-notebook-cell:/c%3A/Users/u6022329/Documents/Python%20Scripts/exerPythObjectOriented/Python_OOP6_PropertyDecorators.ipynb#W5sZmlsZQ%3D%3D?line=28'>29</a>\u001b[0m emp_1 \u001b[39m=\u001b[39m Employee(\u001b[39m'\u001b[39;49m\u001b[39mJohn\u001b[39;49m\u001b[39m'\u001b[39;49m, \u001b[39m'\u001b[39;49m\u001b[39mSmith\u001b[39;49m\u001b[39m'\u001b[39;49m)\n\u001b[0;32m     <a href='vscode-notebook-cell:/c%3A/Users/u6022329/Documents/Python%20Scripts/exerPythObjectOriented/Python_OOP6_PropertyDecorators.ipynb#W5sZmlsZQ%3D%3D?line=30'>31</a>\u001b[0m emp_1\u001b[39m.\u001b[39mfullname \u001b[39m=\u001b[39m \u001b[39m'\u001b[39m\u001b[39mCorey Schafer\u001b[39m\u001b[39m'\u001b[39m\n\u001b[0;32m     <a href='vscode-notebook-cell:/c%3A/Users/u6022329/Documents/Python%20Scripts/exerPythObjectOriented/Python_OOP6_PropertyDecorators.ipynb#W5sZmlsZQ%3D%3D?line=32'>33</a>\u001b[0m \u001b[39mprint\u001b[39m(emp_1\u001b[39m.\u001b[39mfirst)\n",
      "\u001b[1;31mTypeError\u001b[0m: Employee.__init__() missing 1 required positional argument: 'pay'"
     ]
    }
   ],
   "source": [
    "class Employee:\n",
    "    \n",
    "    def __init__(self, first, last, pay):\n",
    "        self.first = first\n",
    "        self.last = last\n",
    "        self.email = first + '.' + last + '@email.com'\n",
    "    \n",
    "    @property\n",
    "    def email(self):\n",
    "        return '{}.{}@email.com'.format(self.first, self.last)\n",
    "        \n",
    "    @property\n",
    "    def fullname(self):\n",
    "        return '{} {}'.format(self.first, self.last)\n",
    "    \n",
    "    @fullname.setter\n",
    "    def fullname(self, name):\n",
    "        first, last = name.split(' ')\n",
    "        self.first = first\n",
    "        self.last = last\n",
    "    \n",
    "    @fullname.deleter\n",
    "    def fullname(self):\n",
    "        print('Delete Name!')\n",
    "        self.first = None\n",
    "        self.last = None\n",
    "        \n",
    "        \n",
    "emp_1 = Employee('John', 'Smith')\n",
    "\n",
    "emp_1.fullname = 'Corey Schafer'\n",
    "\n",
    "print(emp_1.first)\n",
    "print(emp_1.email)\n",
    "print(emp_1.fullname())\n",
    "\n"
   ]
  }
 ],
 "metadata": {
  "kernelspec": {
   "display_name": "Python 3.10.7 64-bit (microsoft store)",
   "language": "python",
   "name": "python3"
  },
  "language_info": {
   "codemirror_mode": {
    "name": "ipython",
    "version": 3
   },
   "file_extension": ".py",
   "mimetype": "text/x-python",
   "name": "python",
   "nbconvert_exporter": "python",
   "pygments_lexer": "ipython3",
   "version": "3.10.7"
  },
  "vscode": {
   "interpreter": {
    "hash": "af7b0cce07376c58e2b36d64612d3cbee2d17660412879c7b0bfdcd47aa3d96c"
   }
  }
 },
 "nbformat": 4,
 "nbformat_minor": 5
}
